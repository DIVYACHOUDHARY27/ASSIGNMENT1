{
 "cells": [
  {
   "cell_type": "code",
   "execution_count": 25,
   "metadata": {},
   "outputs": [
    {
     "name": "stdout",
     "output_type": "stream",
     "text": [
      "enter list length:7\n",
      "enter the list number :4 4 5 6 8 4 5\n",
      "new list: [4, 4, 5, 6, 8, 4, 5]\n",
      "after removing duplicates:[8, 4, 5, 6]\n"
     ]
    }
   ],
   "source": [
    "#Q-1\n",
    "\n",
    "n = int(input(\"enter list length:\"))\n",
    "numlist=list(int(num) for num in input(\"enter the list number :\").strip().split())[:n]\n",
    "print(\"new list:\",numlist)\n",
    "numlist=list(set(numlist))\n",
    "print(\"after removing duplicates:\"+str(numlist))"
   ]
  },
  {
   "cell_type": "code",
   "execution_count": 3,
   "metadata": {},
   "outputs": [
    {
     "name": "stdout",
     "output_type": "stream",
     "text": [
      "(1, 2, 3, 4, 5)\n"
     ]
    }
   ],
   "source": [
    "# Q-2\n",
    "\n",
    "t = (1,2,3,4,5)\n",
    "print(t)"
   ]
  },
  {
   "cell_type": "code",
   "execution_count": 14,
   "metadata": {},
   "outputs": [
    {
     "name": "stdout",
     "output_type": "stream",
     "text": [
      "5\n"
     ]
    }
   ],
   "source": [
    "#largest term\n",
    "\n",
    "print(max(t))"
   ]
  },
  {
   "cell_type": "code",
   "execution_count": 15,
   "metadata": {},
   "outputs": [
    {
     "name": "stdout",
     "output_type": "stream",
     "text": [
      "1\n"
     ]
    }
   ],
   "source": [
    "#smallest term\n",
    "\n",
    "print(min(t))"
   ]
  },
  {
   "cell_type": "code",
   "execution_count": 23,
   "metadata": {},
   "outputs": [
    {
     "name": "stdout",
     "output_type": "stream",
     "text": [
      "15\n"
     ]
    }
   ],
   "source": [
    "#sum\n",
    "print(sum(t))"
   ]
  },
  {
   "cell_type": "code",
   "execution_count": 11,
   "metadata": {},
   "outputs": [
    {
     "name": "stdout",
     "output_type": "stream",
     "text": [
      "num:13\n",
      "i:1\n",
      "15\n"
     ]
    }
   ],
   "source": [
    "# Q3\n",
    "\n",
    "num = int(input('num:'))\n",
    "i=int(input('i:'))\n",
    "mag_num=1<<i\n",
    "original_num=num|mag_num\n",
    "print(original_num)\n",
    "\n"
   ]
  },
  {
   "cell_type": "code",
   "execution_count": 1,
   "metadata": {},
   "outputs": [
    {
     "name": "stdout",
     "output_type": "stream",
     "text": [
      "enter no: 6\n",
      "0\n"
     ]
    }
   ],
   "source": [
    "#Q-4 \n",
    "\n",
    "A=int(input(\"enter no: \"))\n",
    "print(A%2)"
   ]
  },
  {
   "cell_type": "code",
   "execution_count": 29,
   "metadata": {},
   "outputs": [
    {
     "name": "stdout",
     "output_type": "stream",
     "text": [
      "A=[2, 5, 7, 9, 10]\n",
      "B=[5, 4, 9, 8, 6]\n",
      "[2, 4, 5, 5, 6, 7, 8, 9, 9, 10]\n"
     ]
    }
   ],
   "source": [
    "# Q5\n",
    " \n",
    "list_A=[2,5,7,9,10]\n",
    "print(\"A=\"+str(list_A))\n",
    "list_B=[5,4,9,8,6]\n",
    "print(\"B=\"+str(list_B))\n",
    "print(sorted(list_A+list_B))\n",
    " "
   ]
  },
  {
   "cell_type": "code",
   "execution_count": 14,
   "metadata": {},
   "outputs": [
    {
     "name": "stdout",
     "output_type": "stream",
     "text": [
      "input={'Berlin': 70, 'Oslo': 0, 'Moscow': 50, 'Nairobi': 100}\n",
      "output={'Oslo': 0, 'Moscow': 50, 'Belin': 70, 'Nairobi': 100}\n"
     ]
    }
   ],
   "source": [
    "# Q6\n",
    "\n",
    "students={'Berlin':70,'Oslo':0,'Moscow':50,'Nairobi':100}\n",
    "print(\"input=\"+str(students))\n",
    "tuple1=(('Belin',70),('Oslo',0),('Moscow',50),('Nairobi',100))\n",
    "y=dict(sorted(tuple1,key=lambda x:x[1]))\n",
    "print(\"output=\"+str(y))"
   ]
  }
 ],
 "metadata": {
  "kernelspec": {
   "display_name": "Python 3",
   "language": "python",
   "name": "python3"
  },
  "language_info": {
   "codemirror_mode": {
    "name": "ipython",
    "version": 3
   },
   "file_extension": ".py",
   "mimetype": "text/x-python",
   "name": "python",
   "nbconvert_exporter": "python",
   "pygments_lexer": "ipython3",
   "version": "3.7.6"
  }
 },
 "nbformat": 4,
 "nbformat_minor": 4
}
